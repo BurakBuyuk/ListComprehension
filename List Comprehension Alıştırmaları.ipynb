{
 "cells": [
  {
   "cell_type": "code",
   "execution_count": 1,
   "id": "45714de7-a733-463f-a56a-60ea0c0c133f",
   "metadata": {},
   "outputs": [],
   "source": [
    "# Görev 1 : List Comprehension yapısı kullanarak car_crashes verisindeki numeric değişkenlerin\n",
    "# isimlerini büyük harfe çeviriniz ve başına NUM ekleyiniz."
   ]
  },
  {
   "cell_type": "code",
   "execution_count": 11,
   "id": "a2c80e6d-22a2-43d3-af87-02fa8cb41639",
   "metadata": {},
   "outputs": [
    {
     "data": {
      "text/plain": [
       "Index(['total', 'speeding', 'alcohol', 'not_distracted', 'no_previous',\n",
       "       'ins_premium', 'ins_losses', 'abbrev'],\n",
       "      dtype='object')"
      ]
     },
     "execution_count": 11,
     "metadata": {},
     "output_type": "execute_result"
    }
   ],
   "source": [
    "import seaborn as sns\n",
    "df = sns.load_dataset(\"car_crashes\")\n",
    "df.columns"
   ]
  },
  {
   "cell_type": "code",
   "execution_count": 13,
   "id": "54e00ff9-da2a-4d17-99d1-791e7eab57eb",
   "metadata": {},
   "outputs": [
    {
     "name": "stdout",
     "output_type": "stream",
     "text": [
      "['NUMTOTAL', 'NUMSPEEDING', 'NUMALCOHOL', 'NUMNOT_DISTRACTED', 'NUMNO_PREVIOUS', 'NUMINS_PREMIUM', 'NUMINS_LOSSES']\n"
     ]
    }
   ],
   "source": [
    "# Numeric değişkenleri seç\n",
    "numeric_columns = df.select_dtypes(include='number').columns\n",
    "\n",
    "# List comprehension ile isimleri büyük harfe çevirip başına 'NUM' ekleyin\n",
    "new_column_names = [f\"NUM{col.upper()}\" for col in numeric_columns]\n",
    "\n",
    "# Yeni isimleri yazdır\n",
    "print(new_column_names)\n"
   ]
  },
  {
   "cell_type": "code",
   "execution_count": 18,
   "id": "96d65de8-c2d8-4505-8e2a-54ca33c7bdbd",
   "metadata": {},
   "outputs": [],
   "source": [
    "# Görev 2:  ListComprehension yapısı kullanarak car_crashes verisinde isminde \"no\" \n",
    "# barındırmayan değişkenlerin isimlerinin sonuna \"FLAG\" yazınız."
   ]
  },
  {
   "cell_type": "code",
   "execution_count": 20,
   "id": "29f7c8a1-0cee-4fb1-ad60-ecc9a2a975bf",
   "metadata": {},
   "outputs": [
    {
     "name": "stdout",
     "output_type": "stream",
     "text": [
      "['TOTALFLAG', 'SPEEDINGFLAG', 'ALCOHOLFLAG', 'INS_PREMIUMFLAG', 'INS_LOSSESFLAG', 'ABBREVFLAG']\n"
     ]
    }
   ],
   "source": [
    "import seaborn as sns\n",
    "\n",
    "# Veri setini yükle\n",
    "df = sns.load_dataset(\"car_crashes\")\n",
    "\n",
    "# Tek bir list comprehension ile işlemi gerçekleştirin\n",
    "flagged_columns = [f\"{col.upper()}FLAG\" for col in df.columns if \"no\" not in col.lower()]\n",
    "\n",
    "# Yeni isimleri yazdır\n",
    "print(flagged_columns)\n"
   ]
  },
  {
   "cell_type": "code",
   "execution_count": 22,
   "id": "725e2113-57c6-4a27-adb8-dbed19301772",
   "metadata": {},
   "outputs": [],
   "source": [
    "# Görev 3:  ListComprehension yapısı kullanarak aşağıda verilen değişken isimlerinden \n",
    "# FARKLI olan değişkenlerin isimlerini seçiniz ve yeni bir dataframe  oluşturunuz."
   ]
  },
  {
   "cell_type": "code",
   "execution_count": 24,
   "id": "d7b36c09-19c0-4cad-9475-8f83350b0e88",
   "metadata": {},
   "outputs": [
    {
     "name": "stdout",
     "output_type": "stream",
     "text": [
      "   total  speeding  alcohol  not_distracted  ins_premium  ins_losses\n",
      "0   18.8     7.332    5.640          18.048       784.55      145.08\n",
      "1   18.1     7.421    4.525          16.290      1053.48      133.93\n",
      "2   18.6     6.510    5.208          15.624       899.47      110.35\n",
      "3   22.4     4.032    5.824          21.056       827.34      142.39\n",
      "4   12.0     4.200    3.360          10.920       878.41      165.63\n"
     ]
    }
   ],
   "source": [
    "import seaborn as sns\n",
    "\n",
    "# Veri setini yükle\n",
    "df = sns.load_dataset(\"car_crashes\")\n",
    "\n",
    "# Orijinal liste\n",
    "og_list = {\"abbrev\", \"no_previous\"}\n",
    "\n",
    "# Verilen listeye göre yeni sütun isimlerini seç\n",
    "new_cols = [col for col in df.columns if col not in og_list]\n",
    "\n",
    "# Yeni DataFrame oluştur\n",
    "new_df = df[new_cols]\n",
    "\n",
    "# Yeni DataFrame'i yazdır\n",
    "print(new_df.head())\n"
   ]
  },
  {
   "cell_type": "code",
   "execution_count": null,
   "id": "70f6075f-2c0e-4441-8a3a-950c543a0801",
   "metadata": {},
   "outputs": [],
   "source": []
  }
 ],
 "metadata": {
  "kernelspec": {
   "display_name": "Python 3 (ipykernel)",
   "language": "python",
   "name": "python3"
  },
  "language_info": {
   "codemirror_mode": {
    "name": "ipython",
    "version": 3
   },
   "file_extension": ".py",
   "mimetype": "text/x-python",
   "name": "python",
   "nbconvert_exporter": "python",
   "pygments_lexer": "ipython3",
   "version": "3.12.4"
  }
 },
 "nbformat": 4,
 "nbformat_minor": 5
}
